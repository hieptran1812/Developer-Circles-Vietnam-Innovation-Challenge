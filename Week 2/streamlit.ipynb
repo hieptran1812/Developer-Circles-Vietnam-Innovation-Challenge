{
  "nbformat": 4,
  "nbformat_minor": 0,
  "metadata": {
    "colab": {
      "name": "streamlit.ipynb",
      "provenance": [],
      "collapsed_sections": [],
      "toc_visible": true,
      "include_colab_link": true
    },
    "kernelspec": {
      "name": "python3",
      "display_name": "Python 3"
    }
  },
  "cells": [
    {
      "cell_type": "markdown",
      "metadata": {
        "id": "view-in-github",
        "colab_type": "text"
      },
      "source": [
        "<a href=\"https://colab.research.google.com/github/hieptran1812/Developer-Circles-Vietnam-Innovation-Challenge/blob/master/Week%202/streamlit.ipynb\" target=\"_parent\"><img src=\"https://colab.research.google.com/assets/colab-badge.svg\" alt=\"Open In Colab\"/></a>"
      ]
    },
    {
      "cell_type": "markdown",
      "metadata": {
        "id": "rHXrdE__b566",
        "colab_type": "text"
      },
      "source": [
        "# [ngrok](https://ngrok.com/)"
      ]
    },
    {
      "cell_type": "markdown",
      "metadata": {
        "id": "XpzkhbnxcF7t",
        "colab_type": "text"
      },
      "source": [
        "What it's good for\n",
        "- Demoing web sites without deploying\n",
        "- Building webhook consumers on your dev machine\n",
        "- Testing mobile apps connected to your locally running backend\n",
        "- Stable addresses for your connected devices that are deployed in the field\n",
        "- Running personal cloud services from your home\n",
        "\n",
        "![ngrok work](https://ngrok.com/static/img/demo.png)"
      ]
    },
    {
      "cell_type": "code",
      "metadata": {
        "id": "bzQMetczbmnk",
        "colab_type": "code",
        "cellView": "both",
        "colab": {
          "base_uri": "https://localhost:8080/",
          "height": 258
        },
        "outputId": "50de717b-784d-4873-b9d7-703667dd656d"
      },
      "source": [
        "#@title Install ngrok\n",
        "!wget https://bin.equinox.io/c/4VmDzA7iaHb/ngrok-stable-linux-amd64.zip\n",
        "!unzip ngrok-stable-linux-amd64.zip"
      ],
      "execution_count": null,
      "outputs": [
        {
          "output_type": "stream",
          "text": [
            "--2020-07-08 13:15:02--  https://bin.equinox.io/c/4VmDzA7iaHb/ngrok-stable-linux-amd64.zip\n",
            "Resolving bin.equinox.io (bin.equinox.io)... 52.5.250.138, 52.22.244.167, 34.234.58.229, ...\n",
            "Connecting to bin.equinox.io (bin.equinox.io)|52.5.250.138|:443... connected.\n",
            "HTTP request sent, awaiting response... 200 OK\n",
            "Length: 13773305 (13M) [application/octet-stream]\n",
            "Saving to: ‘ngrok-stable-linux-amd64.zip.1’\n",
            "\n",
            "ngrok-stable-linux- 100%[===================>]  13.13M  6.56MB/s    in 2.0s    \n",
            "\n",
            "2020-07-08 13:15:05 (6.56 MB/s) - ‘ngrok-stable-linux-amd64.zip.1’ saved [13773305/13773305]\n",
            "\n",
            "Archive:  ngrok-stable-linux-amd64.zip\n",
            "replace ngrok? [y]es, [n]o, [A]ll, [N]one, [r]ename: n\n"
          ],
          "name": "stdout"
        }
      ]
    },
    {
      "cell_type": "code",
      "metadata": {
        "id": "c5EEtqZSMrbO",
        "colab_type": "code",
        "colab": {
          "base_uri": "https://localhost:8080/",
          "height": 34
        },
        "outputId": "194f88ab-0ae0-427c-8e29-454c18e0bd4b"
      },
      "source": [
        "#@title Start ngrok\n",
        "#@markdown Copy link ngrok genarate to connect sever\n",
        "get_ipython().system_raw('./ngrok http 8501 &')\n",
        "!curl -s http://localhost:4040/api/tunnels | python3 -c \\\n",
        "    \"import sys, json; print(json.load(sys.stdin)['tunnels'][0]['public_url'])\""
      ],
      "execution_count": null,
      "outputs": [
        {
          "output_type": "stream",
          "text": [
            "https://4c28be3a1ae1.ngrok.io\n"
          ],
          "name": "stdout"
        }
      ]
    },
    {
      "cell_type": "markdown",
      "metadata": {
        "id": "7ibyob-dbRRn",
        "colab_type": "text"
      },
      "source": [
        "# [**Streamlit**](https://docs.streamlit.io/en/stable/)\n",
        "\n",
        "Streamlit is an open-source Python library that makes it easy to build beautiful custom web-apps for machine learning and data science.\n"
      ]
    },
    {
      "cell_type": "code",
      "metadata": {
        "id": "8sAUtT_MAwjc",
        "colab_type": "code",
        "colab": {
          "base_uri": "https://localhost:8080/",
          "height": 1000
        },
        "outputId": "5c99b45d-8a8d-4df1-b523-cb22fa47e88c"
      },
      "source": [
        "#@title Install streamlit\n",
        "!pip install streamlit"
      ],
      "execution_count": null,
      "outputs": [
        {
          "output_type": "stream",
          "text": [
            "Requirement already satisfied: streamlit in /usr/local/lib/python3.6/dist-packages (0.62.1)\n",
            "Requirement already satisfied: watchdog in /usr/local/lib/python3.6/dist-packages (from streamlit) (0.10.3)\n",
            "Requirement already satisfied: altair>=3.2.0 in /usr/local/lib/python3.6/dist-packages (from streamlit) (4.1.0)\n",
            "Requirement already satisfied: validators in /usr/local/lib/python3.6/dist-packages (from streamlit) (0.15.0)\n",
            "Requirement already satisfied: requests in /usr/local/lib/python3.6/dist-packages (from streamlit) (2.23.0)\n",
            "Requirement already satisfied: base58 in /usr/local/lib/python3.6/dist-packages (from streamlit) (2.0.1)\n",
            "Requirement already satisfied: tzlocal in /usr/local/lib/python3.6/dist-packages (from streamlit) (1.5.1)\n",
            "Requirement already satisfied: boto3 in /usr/local/lib/python3.6/dist-packages (from streamlit) (1.14.9)\n",
            "Requirement already satisfied: numpy in /usr/local/lib/python3.6/dist-packages (from streamlit) (1.18.5)\n",
            "Requirement already satisfied: pandas>=0.21.0 in /usr/local/lib/python3.6/dist-packages (from streamlit) (1.0.5)\n",
            "Requirement already satisfied: click>=7.0 in /usr/local/lib/python3.6/dist-packages (from streamlit) (7.1.2)\n",
            "Requirement already satisfied: packaging in /usr/local/lib/python3.6/dist-packages (from streamlit) (20.4)\n",
            "Requirement already satisfied: astor in /usr/local/lib/python3.6/dist-packages (from streamlit) (0.8.1)\n",
            "Requirement already satisfied: toml in /usr/local/lib/python3.6/dist-packages (from streamlit) (0.10.1)\n",
            "Requirement already satisfied: python-dateutil in /usr/local/lib/python3.6/dist-packages (from streamlit) (2.8.1)\n",
            "Requirement already satisfied: tornado>=5.0 in /usr/local/lib/python3.6/dist-packages (from streamlit) (6.0.4)\n",
            "Requirement already satisfied: pydeck>=0.1.dev5 in /usr/local/lib/python3.6/dist-packages (from streamlit) (0.4.0b2)\n",
            "Requirement already satisfied: cachetools>=4.0 in /usr/local/lib/python3.6/dist-packages (from streamlit) (4.1.0)\n",
            "Requirement already satisfied: enum-compat in /usr/local/lib/python3.6/dist-packages (from streamlit) (0.0.3)\n",
            "Requirement already satisfied: blinker in /usr/local/lib/python3.6/dist-packages (from streamlit) (1.4)\n",
            "Requirement already satisfied: protobuf>=3.6.0 in /usr/local/lib/python3.6/dist-packages (from streamlit) (3.10.0)\n",
            "Requirement already satisfied: pillow>=6.2.0 in /usr/local/lib/python3.6/dist-packages (from streamlit) (7.0.0)\n",
            "Requirement already satisfied: botocore>=1.13.44 in /usr/local/lib/python3.6/dist-packages (from streamlit) (1.17.9)\n",
            "Requirement already satisfied: pathtools>=0.1.1 in /usr/local/lib/python3.6/dist-packages (from watchdog->streamlit) (0.1.2)\n",
            "Requirement already satisfied: toolz in /usr/local/lib/python3.6/dist-packages (from altair>=3.2.0->streamlit) (0.10.0)\n",
            "Requirement already satisfied: entrypoints in /usr/local/lib/python3.6/dist-packages (from altair>=3.2.0->streamlit) (0.3)\n",
            "Requirement already satisfied: jsonschema in /usr/local/lib/python3.6/dist-packages (from altair>=3.2.0->streamlit) (2.6.0)\n",
            "Requirement already satisfied: jinja2 in /usr/local/lib/python3.6/dist-packages (from altair>=3.2.0->streamlit) (2.11.2)\n",
            "Requirement already satisfied: decorator>=3.4.0 in /usr/local/lib/python3.6/dist-packages (from validators->streamlit) (4.4.2)\n",
            "Requirement already satisfied: six>=1.4.0 in /usr/local/lib/python3.6/dist-packages (from validators->streamlit) (1.12.0)\n",
            "Requirement already satisfied: idna<3,>=2.5 in /usr/local/lib/python3.6/dist-packages (from requests->streamlit) (2.9)\n",
            "Requirement already satisfied: urllib3!=1.25.0,!=1.25.1,<1.26,>=1.21.1 in /usr/local/lib/python3.6/dist-packages (from requests->streamlit) (1.24.3)\n",
            "Requirement already satisfied: certifi>=2017.4.17 in /usr/local/lib/python3.6/dist-packages (from requests->streamlit) (2020.6.20)\n",
            "Requirement already satisfied: chardet<4,>=3.0.2 in /usr/local/lib/python3.6/dist-packages (from requests->streamlit) (3.0.4)\n",
            "Requirement already satisfied: pytz in /usr/local/lib/python3.6/dist-packages (from tzlocal->streamlit) (2018.9)\n",
            "Requirement already satisfied: jmespath<1.0.0,>=0.7.1 in /usr/local/lib/python3.6/dist-packages (from boto3->streamlit) (0.10.0)\n",
            "Requirement already satisfied: s3transfer<0.4.0,>=0.3.0 in /usr/local/lib/python3.6/dist-packages (from boto3->streamlit) (0.3.3)\n",
            "Requirement already satisfied: pyparsing>=2.0.2 in /usr/local/lib/python3.6/dist-packages (from packaging->streamlit) (2.4.7)\n",
            "Requirement already satisfied: ipykernel>=5.1.2; python_version >= \"3.4\" in /usr/local/lib/python3.6/dist-packages (from pydeck>=0.1.dev5->streamlit) (5.3.1)\n",
            "Requirement already satisfied: ipywidgets>=7.0.0 in /usr/local/lib/python3.6/dist-packages (from pydeck>=0.1.dev5->streamlit) (7.5.1)\n",
            "Requirement already satisfied: traitlets>=4.3.2 in /usr/local/lib/python3.6/dist-packages (from pydeck>=0.1.dev5->streamlit) (4.3.3)\n",
            "Requirement already satisfied: setuptools in /usr/local/lib/python3.6/dist-packages (from protobuf>=3.6.0->streamlit) (47.3.1)\n",
            "Requirement already satisfied: docutils<0.16,>=0.10 in /usr/local/lib/python3.6/dist-packages (from botocore>=1.13.44->streamlit) (0.15.2)\n",
            "Requirement already satisfied: MarkupSafe>=0.23 in /usr/local/lib/python3.6/dist-packages (from jinja2->altair>=3.2.0->streamlit) (1.1.1)\n",
            "Requirement already satisfied: jupyter-client in /usr/local/lib/python3.6/dist-packages (from ipykernel>=5.1.2; python_version >= \"3.4\"->pydeck>=0.1.dev5->streamlit) (5.3.4)\n",
            "Requirement already satisfied: ipython>=5.0.0 in /usr/local/lib/python3.6/dist-packages (from ipykernel>=5.1.2; python_version >= \"3.4\"->pydeck>=0.1.dev5->streamlit) (5.5.0)\n",
            "Requirement already satisfied: nbformat>=4.2.0 in /usr/local/lib/python3.6/dist-packages (from ipywidgets>=7.0.0->pydeck>=0.1.dev5->streamlit) (5.0.7)\n",
            "Requirement already satisfied: widgetsnbextension~=3.5.0 in /usr/local/lib/python3.6/dist-packages (from ipywidgets>=7.0.0->pydeck>=0.1.dev5->streamlit) (3.5.1)\n",
            "Requirement already satisfied: ipython-genutils in /usr/local/lib/python3.6/dist-packages (from traitlets>=4.3.2->pydeck>=0.1.dev5->streamlit) (0.2.0)\n",
            "Requirement already satisfied: jupyter-core>=4.6.0 in /usr/local/lib/python3.6/dist-packages (from jupyter-client->ipykernel>=5.1.2; python_version >= \"3.4\"->pydeck>=0.1.dev5->streamlit) (4.6.3)\n",
            "Requirement already satisfied: pyzmq>=13 in /usr/local/lib/python3.6/dist-packages (from jupyter-client->ipykernel>=5.1.2; python_version >= \"3.4\"->pydeck>=0.1.dev5->streamlit) (19.0.1)\n",
            "Requirement already satisfied: pickleshare in /usr/local/lib/python3.6/dist-packages (from ipython>=5.0.0->ipykernel>=5.1.2; python_version >= \"3.4\"->pydeck>=0.1.dev5->streamlit) (0.7.5)\n",
            "Requirement already satisfied: pexpect; sys_platform != \"win32\" in /usr/local/lib/python3.6/dist-packages (from ipython>=5.0.0->ipykernel>=5.1.2; python_version >= \"3.4\"->pydeck>=0.1.dev5->streamlit) (4.8.0)\n",
            "Requirement already satisfied: simplegeneric>0.8 in /usr/local/lib/python3.6/dist-packages (from ipython>=5.0.0->ipykernel>=5.1.2; python_version >= \"3.4\"->pydeck>=0.1.dev5->streamlit) (0.8.1)\n",
            "Requirement already satisfied: prompt-toolkit<2.0.0,>=1.0.4 in /usr/local/lib/python3.6/dist-packages (from ipython>=5.0.0->ipykernel>=5.1.2; python_version >= \"3.4\"->pydeck>=0.1.dev5->streamlit) (1.0.18)\n",
            "Requirement already satisfied: pygments in /usr/local/lib/python3.6/dist-packages (from ipython>=5.0.0->ipykernel>=5.1.2; python_version >= \"3.4\"->pydeck>=0.1.dev5->streamlit) (2.1.3)\n",
            "Requirement already satisfied: notebook>=4.4.1 in /usr/local/lib/python3.6/dist-packages (from widgetsnbextension~=3.5.0->ipywidgets>=7.0.0->pydeck>=0.1.dev5->streamlit) (5.2.2)\n",
            "Requirement already satisfied: ptyprocess>=0.5 in /usr/local/lib/python3.6/dist-packages (from pexpect; sys_platform != \"win32\"->ipython>=5.0.0->ipykernel>=5.1.2; python_version >= \"3.4\"->pydeck>=0.1.dev5->streamlit) (0.6.0)\n",
            "Requirement already satisfied: wcwidth in /usr/local/lib/python3.6/dist-packages (from prompt-toolkit<2.0.0,>=1.0.4->ipython>=5.0.0->ipykernel>=5.1.2; python_version >= \"3.4\"->pydeck>=0.1.dev5->streamlit) (0.2.5)\n",
            "Requirement already satisfied: nbconvert in /usr/local/lib/python3.6/dist-packages (from notebook>=4.4.1->widgetsnbextension~=3.5.0->ipywidgets>=7.0.0->pydeck>=0.1.dev5->streamlit) (5.6.1)\n",
            "Requirement already satisfied: terminado>=0.3.3; sys_platform != \"win32\" in /usr/local/lib/python3.6/dist-packages (from notebook>=4.4.1->widgetsnbextension~=3.5.0->ipywidgets>=7.0.0->pydeck>=0.1.dev5->streamlit) (0.8.3)\n",
            "Requirement already satisfied: testpath in /usr/local/lib/python3.6/dist-packages (from nbconvert->notebook>=4.4.1->widgetsnbextension~=3.5.0->ipywidgets>=7.0.0->pydeck>=0.1.dev5->streamlit) (0.4.4)\n",
            "Requirement already satisfied: bleach in /usr/local/lib/python3.6/dist-packages (from nbconvert->notebook>=4.4.1->widgetsnbextension~=3.5.0->ipywidgets>=7.0.0->pydeck>=0.1.dev5->streamlit) (3.1.5)\n",
            "Requirement already satisfied: mistune<2,>=0.8.1 in /usr/local/lib/python3.6/dist-packages (from nbconvert->notebook>=4.4.1->widgetsnbextension~=3.5.0->ipywidgets>=7.0.0->pydeck>=0.1.dev5->streamlit) (0.8.4)\n",
            "Requirement already satisfied: pandocfilters>=1.4.1 in /usr/local/lib/python3.6/dist-packages (from nbconvert->notebook>=4.4.1->widgetsnbextension~=3.5.0->ipywidgets>=7.0.0->pydeck>=0.1.dev5->streamlit) (1.4.2)\n",
            "Requirement already satisfied: defusedxml in /usr/local/lib/python3.6/dist-packages (from nbconvert->notebook>=4.4.1->widgetsnbextension~=3.5.0->ipywidgets>=7.0.0->pydeck>=0.1.dev5->streamlit) (0.6.0)\n",
            "Requirement already satisfied: webencodings in /usr/local/lib/python3.6/dist-packages (from bleach->nbconvert->notebook>=4.4.1->widgetsnbextension~=3.5.0->ipywidgets>=7.0.0->pydeck>=0.1.dev5->streamlit) (0.5.1)\n"
          ],
          "name": "stdout"
        }
      ]
    },
    {
      "cell_type": "code",
      "metadata": {
        "id": "H9BCqKsmMr0J",
        "colab_type": "code",
        "colab": {
          "base_uri": "https://localhost:8080/",
          "height": 969
        },
        "outputId": "433d33fa-7305-47ea-a49a-43ad310038f4"
      },
      "source": [
        "#@title demo streamlit\n",
        "!streamlit hello"
      ],
      "execution_count": null,
      "outputs": [
        {
          "output_type": "stream",
          "text": [
            "\u001b[0m\n",
            "\u001b[34m\u001b[1m  Welcome to Streamlit. Check out our demo in your browser.\u001b[0m\n",
            "\u001b[0m\n",
            "\u001b[34m  Network URL: \u001b[0m\u001b[1mhttp://172.28.0.2:8501\u001b[0m\n",
            "\u001b[34m  External URL: \u001b[0m\u001b[1mhttp://35.185.47.239:8501\u001b[0m\n",
            "\u001b[0m\n",
            "  Ready to create your own Python apps super quickly?\u001b[0m\n",
            "  Just head over to \u001b[0m\u001b[1mhttps://docs.streamlit.io\u001b[0m\n",
            "\u001b[0m\n",
            "  May you create awesome apps!\u001b[0m\n",
            "\u001b[0m\n",
            "\u001b[34m  Stopping...\u001b[0m\n",
            "Traceback (most recent call last):\n",
            "  File \"/usr/local/bin/streamlit\", line 8, in <module>\n",
            "    sys.exit(main())\n",
            "  File \"/usr/local/lib/python3.6/dist-packages/click/core.py\", line 829, in __call__\n",
            "    return self.main(*args, **kwargs)\n",
            "  File \"/usr/local/lib/python3.6/dist-packages/click/core.py\", line 782, in main\n",
            "    rv = self.invoke(ctx)\n",
            "  File \"/usr/local/lib/python3.6/dist-packages/click/core.py\", line 1259, in invoke\n",
            "    return _process_result(sub_ctx.command.invoke(sub_ctx))\n",
            "  File \"/usr/local/lib/python3.6/dist-packages/click/core.py\", line 1066, in invoke\n",
            "    return ctx.invoke(self.callback, **ctx.params)\n",
            "  File \"/usr/local/lib/python3.6/dist-packages/click/core.py\", line 610, in invoke\n",
            "    return callback(*args, **kwargs)\n",
            "  File \"/usr/local/lib/python3.6/dist-packages/streamlit/cli.py\", line 194, in main_hello\n",
            "    _main_run(filename)\n",
            "  File \"/usr/local/lib/python3.6/dist-packages/streamlit/cli.py\", line 263, in _main_run\n",
            "    bootstrap.run(file, command_line, args)\n",
            "  File \"/usr/local/lib/python3.6/dist-packages/streamlit/bootstrap.py\", line 257, in run\n",
            "    ioloop.start()\n",
            "  File \"/usr/local/lib/python3.6/dist-packages/tornado/platform/asyncio.py\", line 149, in start\n",
            "    self.asyncio_loop.run_forever()\n",
            "  File \"/usr/lib/python3.6/asyncio/base_events.py\", line 438, in run_forever\n",
            "    self._run_once()\n",
            "  File \"/usr/lib/python3.6/asyncio/base_events.py\", line 1415, in _run_once\n",
            "    event_list = self._selector.select(timeout)\n",
            "  File \"/usr/lib/python3.6/selectors.py\", line 445, in select\n",
            "    fd_event_list = self._epoll.poll(timeout, max_ev)\n",
            "  File \"/usr/local/lib/python3.6/dist-packages/streamlit/bootstrap.py\", line 44, in signal_handler\n",
            "    Server.get_current().stop()\n",
            "  File \"/usr/local/lib/python3.6/dist-packages/streamlit/server/Server.py\", line 483, in stop\n",
            "    click.secho(\"  Stopping...\", fg=\"blue\")\n",
            "  File \"/usr/local/lib/python3.6/dist-packages/click/termui.py\", line 548, in secho\n",
            "    return echo(message, file=file, nl=nl, err=err, color=color)\n",
            "  File \"/usr/local/lib/python3.6/dist-packages/click/utils.py\", line 272, in echo\n",
            "    file.write(message)\n",
            "  File \"/usr/local/lib/python3.6/dist-packages/streamlit/bootstrap.py\", line 44, in signal_handler\n",
            "    Server.get_current().stop()\n",
            "  File \"/usr/local/lib/python3.6/dist-packages/streamlit/server/Server.py\", line 483, in stop\n",
            "    click.secho(\"  Stopping...\", fg=\"blue\")\n",
            "  File \"/usr/local/lib/python3.6/dist-packages/click/termui.py\", line 548, in secho\n",
            "    return echo(message, file=file, nl=nl, err=err, color=color)\n",
            "  File \"/usr/local/lib/python3.6/dist-packages/click/utils.py\", line 272, in echo\n",
            "    file.write(message)\n",
            "RuntimeError: reentrant call inside <_io.BufferedWriter name='<stdout>'>\n"
          ],
          "name": "stdout"
        }
      ]
    },
    {
      "cell_type": "markdown",
      "metadata": {
        "id": "8LEsvegMeISO",
        "colab_type": "text"
      },
      "source": [
        "## Make a simple app"
      ]
    },
    {
      "cell_type": "markdown",
      "metadata": {
        "id": "_QiRIcLkrnBM",
        "colab_type": "text"
      },
      "source": [
        "### Display text"
      ]
    },
    {
      "cell_type": "code",
      "metadata": {
        "id": "oLlXLz-EoEuK",
        "colab_type": "code",
        "colab": {
          "base_uri": "https://localhost:8080/",
          "height": 34
        },
        "outputId": "8ed9b32a-1d5c-415a-9b03-57c3203cce3c"
      },
      "source": [
        "%%writefile simple_text.py\n",
        "\n",
        "import streamlit as st\n",
        "\n",
        "import numpy as np\n",
        "import pandas as pd\n",
        "\n",
        "# Using plotly.express\n",
        "import plotly.express as px\n",
        "\n",
        "def text():\n",
        "    st.title('Display text')\n",
        "\n",
        "    st.text('This is some text.')\n",
        "\n",
        "    st.header('Display string formatted as Markdown.')\n",
        "    st.markdown('Streamlit is **_really_ cool**.')\n",
        "\n",
        "    ('Display mathematical expressions formatted as LaTeX.')\n",
        "    st.latex(r'''\n",
        "    a + ar + a r^2 + a r^3 + \\cdots + a r^{n-1} =\n",
        "    \\sum_{k=0}^{n-1} ar^k =\n",
        "    a \\left(\\frac{1-r^{n}}{1-r}\\right)\n",
        "    ''')\n",
        "\n",
        "    st.header('Write arguments to the app.')\n",
        "    st.write('Hello, *World!* :sunglasses:')\n",
        "\n",
        "    st.header('Pass in multiple arguments')\n",
        "    st.write('1 + 1 = ', 2)\n",
        "    day = 'wednesday'\n",
        "    st.write('Today is:', day, 'and the forecast is:', 'cool')\n",
        "\n",
        "if __name__ == \"__main__\":\n",
        "    text()"
      ],
      "execution_count": null,
      "outputs": [
        {
          "output_type": "stream",
          "text": [
            "Overwriting simple_text.py\n"
          ],
          "name": "stdout"
        }
      ]
    },
    {
      "cell_type": "code",
      "metadata": {
        "id": "Z3E-EbQskfcD",
        "colab_type": "code",
        "colab": {
          "base_uri": "https://localhost:8080/",
          "height": 153
        },
        "outputId": "84e7a76a-07ee-401f-884a-c3798e0decaa"
      },
      "source": [
        "!streamlit run simple_text.py"
      ],
      "execution_count": null,
      "outputs": [
        {
          "output_type": "stream",
          "text": [
            "\u001b[0m\n",
            "\u001b[34m\u001b[1m  You can now view your Streamlit app in your browser.\u001b[0m\n",
            "\u001b[0m\n",
            "\u001b[34m  Network URL: \u001b[0m\u001b[1mhttp://172.28.0.2:8501\u001b[0m\n",
            "\u001b[34m  External URL: \u001b[0m\u001b[1mhttp://35.221.182.17:8501\u001b[0m\n",
            "\u001b[0m\n",
            "\u001b[34m  Stopping...\u001b[0m\n",
            "^C\n"
          ],
          "name": "stdout"
        }
      ]
    },
    {
      "cell_type": "markdown",
      "metadata": {
        "id": "josC-trBrtQH",
        "colab_type": "text"
      },
      "source": [
        "### Display data"
      ]
    },
    {
      "cell_type": "code",
      "metadata": {
        "id": "ms2Rv89GoEN7",
        "colab_type": "code",
        "colab": {
          "base_uri": "https://localhost:8080/",
          "height": 34
        },
        "outputId": "9948827d-3ee7-41ba-ba31-b3949126f5f8"
      },
      "source": [
        "%%writefile simple_data.py\n",
        "\n",
        "import streamlit as st\n",
        "\n",
        "import numpy as np\n",
        "import pandas as pd\n",
        "\n",
        "# Using plotly.express\n",
        "import plotly.express as px\n",
        "\n",
        "def data():\n",
        "    st.write(\"Here's our first attempt at using data to create a table:\")\n",
        "    df = pd.DataFrame({\n",
        "    'first column': [1, 2, 3, 4],\n",
        "    'second column': [10, 20, 30, 40]\n",
        "    })\n",
        "\n",
        "\n",
        "    st.write('Below is a DataFrame:', df, 'Above is a dataframe.')\n",
        "\n",
        "    st.header('Using dataframe to show table.')\n",
        "    df = pd.DataFrame(\n",
        "    np.random.randn(10, 20),\n",
        "    columns=('col %d' % i for i in range(20))\n",
        "    )\n",
        "\n",
        "    st.dataframe(df.style.highlight_max(axis=0)) # Same as st.write(df)\n",
        "\n",
        "\n",
        "if __name__ == \"__main__\":\n",
        "    data()"
      ],
      "execution_count": null,
      "outputs": [
        {
          "output_type": "stream",
          "text": [
            "Overwriting simple_data.py\n"
          ],
          "name": "stdout"
        }
      ]
    },
    {
      "cell_type": "markdown",
      "metadata": {
        "id": "_KKhcFoFrwRB",
        "colab_type": "text"
      },
      "source": [
        "### Display charts"
      ]
    },
    {
      "cell_type": "code",
      "metadata": {
        "id": "gb9qe4geoEGr",
        "colab_type": "code",
        "colab": {
          "base_uri": "https://localhost:8080/",
          "height": 34
        },
        "outputId": "b2b09de6-8119-46f8-e967-201a17469144"
      },
      "source": [
        "%%writefile simple_charts.py\n",
        "\n",
        "import streamlit as st\n",
        "\n",
        "import numpy as np\n",
        "import pandas as pd\n",
        "\n",
        "# Using plotly.express\n",
        "import plotly.express as px\n",
        "\n",
        "def charts():\n",
        "    st.title('plot function')\n",
        "    st.header('Display a line chart.')\n",
        "    chart_data = pd.DataFrame(\n",
        "        np.random.randn(20, 3),\n",
        "        columns=['a', 'b', 'c']\n",
        "    )\n",
        "    st.line_chart(chart_data)\n",
        "\n",
        "    st.header(\"Display a area chart.\")\n",
        "    chart_data = pd.DataFrame(\n",
        "        np.random.randn(20, 3),\n",
        "        columns=['a', 'b', 'c'])\n",
        "    st.area_chart(chart_data)\n",
        "\n",
        "    st.header(\"Display a bar chart.\")\n",
        "    chart_data = pd.DataFrame(\n",
        "        np.random.randn(50, 3),\n",
        "        columns=[\"a\", \"b\", \"c\"]\n",
        "    )\n",
        "    st.bar_chart(chart_data)\n",
        "\n",
        "    st.header(\"Display an interactive Plotly chart.\")\n",
        "    df = pd.DataFrame({\n",
        "    'first column': [1, 2, 3, 4],\n",
        "    'second column': [10, 20, 30, 40]\n",
        "    })\n",
        "    fig = px.line(df, x='first column', y='second column')\n",
        "    st.plotly_chart(fig)\n",
        "\n",
        "if __name__ == \"__main__\":\n",
        "    charts()"
      ],
      "execution_count": null,
      "outputs": [
        {
          "output_type": "stream",
          "text": [
            "Overwriting simple_charts.py\n"
          ],
          "name": "stdout"
        }
      ]
    },
    {
      "cell_type": "markdown",
      "metadata": {
        "id": "D-C8naicrzPF",
        "colab_type": "text"
      },
      "source": [
        "### Display widgets"
      ]
    },
    {
      "cell_type": "code",
      "metadata": {
        "id": "e_AxBV9AoD9s",
        "colab_type": "code",
        "colab": {
          "base_uri": "https://localhost:8080/",
          "height": 34
        },
        "outputId": "5badc0f4-e416-416b-fa30-ec3cee522985"
      },
      "source": [
        "%%writefile simple_widgets.py\n",
        "\n",
        "import streamlit as st\n",
        "\n",
        "import numpy as np\n",
        "import pandas as pd\n",
        "\n",
        "# Using plotly.express\n",
        "import plotly.express as px\n",
        "\n",
        "def widgets():\n",
        "    st.title('widgets')\n",
        "    \n",
        "    st.header(\"SelectBox\")\n",
        "    age = st.selectbox(\"Choose your age: \", np.arange(18, 21, 30))\n",
        "\n",
        "    st.header(\"Slider\")\n",
        "    age = streamlit.slider(\"Choose your age: \", min_value=16,   \n",
        "                       max_value=66, value=35, step=1)\n",
        "    \n",
        "    st.header('MultiSelect')\n",
        "    language = st.multiselect(\"Who are your favorite language?\", \n",
        "                         [\"Java\", \"Python\", \"C++\", \"Javascript\",\n",
        "                         \"Go\", \"R\", \"Mathlab\"])\n",
        "\n",
        "if __name__ == \"__main__\":\n",
        "    widgets()"
      ],
      "execution_count": null,
      "outputs": [
        {
          "output_type": "stream",
          "text": [
            "Overwriting simple_widgets.py\n"
          ],
          "name": "stdout"
        }
      ]
    },
    {
      "cell_type": "code",
      "metadata": {
        "id": "g9J3GS1qnnHW",
        "colab_type": "code",
        "colab": {
          "base_uri": "https://localhost:8080/",
          "height": 34
        },
        "outputId": "d3b13d67-22bd-49b0-dbdb-8e2230eee79c"
      },
      "source": [
        "%%writefile simple_app.py\n",
        "\n",
        "import streamlit as st\n",
        "\n",
        "import numpy as np\n",
        "import pandas as pd\n",
        "\n",
        "# Using plotly.express\n",
        "import plotly.express as px\n",
        "\n",
        "from simple_text import text\n",
        "from simple_data import data\n",
        "from simple_charts import charts\n",
        "from simple_widgets import widgets\n",
        "\n",
        "def main():\n",
        "    page = st.sidebar.selectbox(\"Choose a example\", [\n",
        "        \"Display text\", \"Display data\", \"Display charts\"\n",
        "    ])\n",
        "\n",
        "    if page == \"Display text\":\n",
        "        text()\n",
        "    elif page == \"Display data\":\n",
        "        data()\n",
        "    elif page == \"Display charts\":  \n",
        "        charts()\n",
        "\n",
        "\n",
        "st.title('My simple app')\n",
        "###\n",
        "\n",
        "if __name__ == \"__main__\":\n",
        "    main()"
      ],
      "execution_count": null,
      "outputs": [
        {
          "output_type": "stream",
          "text": [
            "Writing simple_app.py\n"
          ],
          "name": "stdout"
        }
      ]
    },
    {
      "cell_type": "code",
      "metadata": {
        "id": "yQxVvXDzpo6J",
        "colab_type": "code",
        "colab": {
          "base_uri": "https://localhost:8080/",
          "height": 153
        },
        "outputId": "b2767ed5-ec90-4838-dbed-fa67c76c1032"
      },
      "source": [
        "!streamlit run simple_app.py"
      ],
      "execution_count": null,
      "outputs": [
        {
          "output_type": "stream",
          "text": [
            "\u001b[0m\n",
            "\u001b[34m\u001b[1m  You can now view your Streamlit app in your browser.\u001b[0m\n",
            "\u001b[0m\n",
            "\u001b[34m  Network URL: \u001b[0m\u001b[1mhttp://172.28.0.2:8501\u001b[0m\n",
            "\u001b[34m  External URL: \u001b[0m\u001b[1mhttp://35.221.182.17:8501\u001b[0m\n",
            "\u001b[0m\n",
            "\u001b[34m  Stopping...\u001b[0m\n",
            "\u001b[34m  Stopping...\u001b[0m\n"
          ],
          "name": "stdout"
        }
      ]
    },
    {
      "cell_type": "markdown",
      "metadata": {
        "id": "mrvoJLiDqkdX",
        "colab_type": "text"
      },
      "source": [
        "# Examples"
      ]
    },
    {
      "cell_type": "markdown",
      "metadata": {
        "id": "-ujtqDO8g_3G",
        "colab_type": "text"
      },
      "source": [
        "## Plotly example"
      ]
    },
    {
      "cell_type": "code",
      "metadata": {
        "id": "7eCkTdeYMtid",
        "colab_type": "code",
        "colab": {
          "base_uri": "https://localhost:8080/",
          "height": 34
        },
        "outputId": "49c6f4c7-78d7-486e-91f6-0b1194cb687b"
      },
      "source": [
        "%%writefile plotly_dash.py\n",
        "# Copyright 2018-2020 Streamlit Inc.\n",
        "#\n",
        "# Licensed under the Apache License, Version 2.0 (the \"License\");\n",
        "# you may not use this file except in compliance with the License.\n",
        "# You may obtain a copy of the License at\n",
        "#\n",
        "#    http://www.apache.org/licenses/LICENSE-2.0\n",
        "#\n",
        "# Unless required by applicable law or agreed to in writing, software\n",
        "# distributed under the License is distributed on an \"AS IS\" BASIS,\n",
        "# WITHOUT WARRANTIES OR CONDITIONS OF ANY KIND, either express or implied.\n",
        "# See the License for the specific language governing permissions and\n",
        "# limitations under the License.\n",
        "\n",
        "import streamlit as st\n",
        "import plotly.graph_objs as go\n",
        "import numpy as np\n",
        "\n",
        "st.title(\"Plotly examples\")\n",
        "\n",
        "st.header(\"Chart with two lines\")\n",
        "\n",
        "trace0 = go.Scatter(x=[1, 2, 3, 4], y=[10, 15, 13, 17])\n",
        "trace1 = go.Scatter(x=[1, 2, 3, 4], y=[16, 5, 11, 9])\n",
        "data = [trace0, trace1]\n",
        "st.write(data)\n",
        "\n",
        "\n",
        "###\n",
        "\n",
        "# st.header(\"Matplotlib chart in Plotly\")\n",
        "\n",
        "# import matplotlib.pyplot as plt\n",
        "# %matplotlib inline\n",
        "\n",
        "# f = plt.figure()\n",
        "# arr = np.random.normal(1, 1, size=100)\n",
        "# plt.hist(arr, bins=20)\n",
        "\n",
        "# st.plotly_chart(f)\n",
        "\n",
        "###\n",
        "\n",
        "st.header(\"3D plot\")\n",
        "\n",
        "x, y, z = np.random.multivariate_normal(np.array([0, 0, 0]), np.eye(3), 400).transpose()\n",
        "\n",
        "trace1 = go.Scatter3d(\n",
        "    x=x,\n",
        "    y=y,\n",
        "    z=z,\n",
        "    mode=\"markers\",\n",
        "    marker=dict(\n",
        "        size=12,\n",
        "        color=z,  # set color to an array/list of desired values\n",
        "        colorscale=\"Viridis\",  # choose a colorscale\n",
        "        opacity=0.8,\n",
        "    ),\n",
        ")\n",
        "\n",
        "data = [trace1]\n",
        "layout = go.Layout(margin=dict(l=0, r=0, b=0, t=0))\n",
        "fig = go.Figure(data=data, layout=layout)\n",
        "\n",
        "st.write(fig)\n",
        "\n",
        "\n",
        "###\n",
        "\n",
        "st.header(\"Fancy density plot\")\n",
        "\n",
        "import plotly.figure_factory as ff\n",
        "\n",
        "import numpy as np\n",
        "\n",
        "# Add histogram data\n",
        "x1 = np.random.randn(200) - 2\n",
        "x2 = np.random.randn(200)\n",
        "x3 = np.random.randn(200) + 2\n",
        "\n",
        "# Group data together\n",
        "hist_data = [x1, x2, x3]\n",
        "\n",
        "group_labels = [\"Group 1\", \"Group 2\", \"Group 3\"]\n",
        "\n",
        "# Create distplot with custom bin_size\n",
        "fig = ff.create_distplot(hist_data, group_labels, bin_size=[0.1, 0.25, 0.5])\n",
        "\n",
        "# Plot!\n",
        "st.plotly_chart(fig)"
      ],
      "execution_count": null,
      "outputs": [
        {
          "output_type": "stream",
          "text": [
            "Writing plotly_dash.py\n"
          ],
          "name": "stdout"
        }
      ]
    },
    {
      "cell_type": "code",
      "metadata": {
        "id": "PjQhrDYxPHHI",
        "colab_type": "code",
        "colab": {
          "base_uri": "https://localhost:8080/",
          "height": 136
        },
        "outputId": "cc3c122b-030b-40f0-f9d5-8cd72ba9ac90"
      },
      "source": [
        "!streamlit run plotly_dash.py"
      ],
      "execution_count": null,
      "outputs": [
        {
          "output_type": "stream",
          "text": [
            "\u001b[0m\n",
            "\u001b[34m\u001b[1m  You can now view your Streamlit app in your browser.\u001b[0m\n",
            "\u001b[0m\n",
            "\u001b[34m  Network URL: \u001b[0m\u001b[1mhttp://172.28.0.2:8501\u001b[0m\n",
            "\u001b[34m  External URL: \u001b[0m\u001b[1mhttp://35.221.182.17:8501\u001b[0m\n",
            "\u001b[0m\n",
            "\u001b[34m  Stopping...\u001b[0m\n"
          ],
          "name": "stdout"
        }
      ]
    },
    {
      "cell_type": "markdown",
      "metadata": {
        "id": "NFz1k0Xmqe-l",
        "colab_type": "text"
      },
      "source": [
        "## Covid19 - Scotland (17th of April)"
      ]
    },
    {
      "cell_type": "code",
      "metadata": {
        "id": "REfWF-_0qyW2",
        "colab_type": "code",
        "colab": {
          "base_uri": "https://localhost:8080/",
          "height": 207
        },
        "outputId": "a9b22413-0965-4296-e267-7900e5c4bc4d"
      },
      "source": [
        "!pip install pycountry"
      ],
      "execution_count": null,
      "outputs": [
        {
          "output_type": "stream",
          "text": [
            "Collecting pycountry\n",
            "\u001b[?25l  Downloading https://files.pythonhosted.org/packages/76/73/6f1a412f14f68c273feea29a6ea9b9f1e268177d32e0e69ad6790d306312/pycountry-20.7.3.tar.gz (10.1MB)\n",
            "\u001b[K     |████████████████████████████████| 10.1MB 2.4MB/s \n",
            "\u001b[?25hBuilding wheels for collected packages: pycountry\n",
            "  Building wheel for pycountry (setup.py) ... \u001b[?25l\u001b[?25hdone\n",
            "  Created wheel for pycountry: filename=pycountry-20.7.3-py2.py3-none-any.whl size=10746863 sha256=0ae593d098a7247ea6222a1985631097beb4388fadf06e0cbb85c8073b1ddb12\n",
            "  Stored in directory: /root/.cache/pip/wheels/33/4e/a6/be297e6b83567e537bed9df4a93f8590ec01c1acfbcd405348\n",
            "Successfully built pycountry\n",
            "Installing collected packages: pycountry\n",
            "Successfully installed pycountry-20.7.3\n"
          ],
          "name": "stdout"
        }
      ]
    },
    {
      "cell_type": "code",
      "metadata": {
        "id": "t2xXzumlqXUz",
        "colab_type": "code",
        "colab": {
          "base_uri": "https://localhost:8080/",
          "height": 202
        },
        "outputId": "19dbcbce-44bf-45f9-c030-9902a1e63b4d"
      },
      "source": [
        "!streamlit run https://raw.githubusercontent.com/heyad/covid19/master/covid19_Scotland/Scotland_Covi19.py"
      ],
      "execution_count": null,
      "outputs": [
        {
          "output_type": "stream",
          "text": [
            "\u001b[0m\n",
            "\u001b[34m\u001b[1m  You can now view your Streamlit app in your browser.\u001b[0m\n",
            "\u001b[0m\n",
            "\u001b[34m  Network URL: \u001b[0m\u001b[1mhttp://172.28.0.2:8501\u001b[0m\n",
            "\u001b[34m  External URL: \u001b[0m\u001b[1mhttp://35.221.182.17:8501\u001b[0m\n",
            "\u001b[0m\n",
            "/usr/local/lib/python3.6/dist-packages/statsmodels/tools/_testing.py:19: FutureWarning: pandas.util.testing is deprecated. Use the functions in the public API at pandas.testing instead.\n",
            "  import pandas.util.testing as tm\n"
          ],
          "name": "stdout"
        }
      ]
    },
    {
      "cell_type": "markdown",
      "metadata": {
        "id": "sgAVziSJrDlN",
        "colab_type": "text"
      },
      "source": [
        "## Natural Language Processing on the Go"
      ]
    },
    {
      "cell_type": "code",
      "metadata": {
        "id": "kMXUsGx86KVJ",
        "colab_type": "code",
        "colab": {
          "base_uri": "https://localhost:8080/",
          "height": 476
        },
        "outputId": "4098057a-827d-421e-a468-b590cbcae5d9"
      },
      "source": [
        "!pip install sumy"
      ],
      "execution_count": null,
      "outputs": [
        {
          "output_type": "stream",
          "text": [
            "Collecting sumy\n",
            "\u001b[?25l  Downloading https://files.pythonhosted.org/packages/61/20/8abf92617ec80a2ebaec8dc1646a790fc9656a4a4377ddb9f0cc90bc9326/sumy-0.8.1-py2.py3-none-any.whl (83kB)\n",
            "\r\u001b[K     |████                            | 10kB 20.6MB/s eta 0:00:01\r\u001b[K     |███████▉                        | 20kB 5.3MB/s eta 0:00:01\r\u001b[K     |███████████▊                    | 30kB 5.0MB/s eta 0:00:01\r\u001b[K     |███████████████▋                | 40kB 5.3MB/s eta 0:00:01\r\u001b[K     |███████████████████▌            | 51kB 5.7MB/s eta 0:00:01\r\u001b[K     |███████████████████████▍        | 61kB 6.2MB/s eta 0:00:01\r\u001b[K     |███████████████████████████▍    | 71kB 6.2MB/s eta 0:00:01\r\u001b[K     |███████████████████████████████▎| 81kB 6.1MB/s eta 0:00:01\r\u001b[K     |████████████████████████████████| 92kB 4.2MB/s \n",
            "\u001b[?25hCollecting pycountry>=18.2.23\n",
            "\u001b[?25l  Downloading https://files.pythonhosted.org/packages/76/73/6f1a412f14f68c273feea29a6ea9b9f1e268177d32e0e69ad6790d306312/pycountry-20.7.3.tar.gz (10.1MB)\n",
            "\u001b[K     |████████████████████████████████| 10.1MB 10.4MB/s \n",
            "\u001b[?25hRequirement already satisfied: requests>=2.7.0 in /usr/local/lib/python3.6/dist-packages (from sumy) (2.23.0)\n",
            "Requirement already satisfied: nltk>=3.0.2 in /usr/local/lib/python3.6/dist-packages (from sumy) (3.2.5)\n",
            "Requirement already satisfied: docopt<0.7,>=0.6.1 in /usr/local/lib/python3.6/dist-packages (from sumy) (0.6.2)\n",
            "Collecting breadability>=0.1.20\n",
            "  Downloading https://files.pythonhosted.org/packages/ad/2d/bb6c9b381e6b6a432aa2ffa8f4afdb2204f1ff97cfcc0766a5b7683fec43/breadability-0.1.20.tar.gz\n",
            "Requirement already satisfied: idna<3,>=2.5 in /usr/local/lib/python3.6/dist-packages (from requests>=2.7.0->sumy) (2.9)\n",
            "Requirement already satisfied: chardet<4,>=3.0.2 in /usr/local/lib/python3.6/dist-packages (from requests>=2.7.0->sumy) (3.0.4)\n",
            "Requirement already satisfied: urllib3!=1.25.0,!=1.25.1,<1.26,>=1.21.1 in /usr/local/lib/python3.6/dist-packages (from requests>=2.7.0->sumy) (1.24.3)\n",
            "Requirement already satisfied: certifi>=2017.4.17 in /usr/local/lib/python3.6/dist-packages (from requests>=2.7.0->sumy) (2020.6.20)\n",
            "Requirement already satisfied: six in /usr/local/lib/python3.6/dist-packages (from nltk>=3.0.2->sumy) (1.12.0)\n",
            "Requirement already satisfied: lxml>=2.0 in /usr/local/lib/python3.6/dist-packages (from breadability>=0.1.20->sumy) (4.2.6)\n",
            "Building wheels for collected packages: pycountry, breadability\n",
            "  Building wheel for pycountry (setup.py) ... \u001b[?25l\u001b[?25hdone\n",
            "  Created wheel for pycountry: filename=pycountry-20.7.3-py2.py3-none-any.whl size=10746863 sha256=9dc5d82e8ab6afa61e0dda6955330f1f0492fc3c76fe49acc99528a44c40fbe2\n",
            "  Stored in directory: /root/.cache/pip/wheels/33/4e/a6/be297e6b83567e537bed9df4a93f8590ec01c1acfbcd405348\n",
            "  Building wheel for breadability (setup.py) ... \u001b[?25l\u001b[?25hdone\n",
            "  Created wheel for breadability: filename=breadability-0.1.20-py2.py3-none-any.whl size=21684 sha256=7a3154cfc269dbe5bfd0da707e792533ff374edaf65b812d90add05265640e90\n",
            "  Stored in directory: /root/.cache/pip/wheels/5a/4d/a1/510b12c5e65e0b2b3ce539b2af66da0fc57571e528924f4a52\n",
            "Successfully built pycountry breadability\n",
            "Installing collected packages: pycountry, breadability, sumy\n",
            "Successfully installed breadability-0.1.20 pycountry-20.7.3 sumy-0.8.1\n"
          ],
          "name": "stdout"
        }
      ]
    },
    {
      "cell_type": "code",
      "metadata": {
        "id": "mEK9S9vx5s5c",
        "colab_type": "code",
        "colab": {
          "base_uri": "https://localhost:8080/",
          "height": 153
        },
        "outputId": "05174ca3-7d43-45c5-8564-3a495b803a51"
      },
      "source": [
        "!streamlit run https://github.com/Jcharis/Streamlit_DataScience_Apps/blob/master/NLP_App_with_Streamlit_Python/app.py"
      ],
      "execution_count": null,
      "outputs": [
        {
          "output_type": "stream",
          "text": [
            "\u001b[0m\n",
            "\u001b[34m\u001b[1m  You can now view your Streamlit app in your browser.\u001b[0m\n",
            "\u001b[0m\n",
            "\u001b[34m  Network URL: \u001b[0m\u001b[1mhttp://172.28.0.2:8501\u001b[0m\n",
            "\u001b[34m  External URL: \u001b[0m\u001b[1mhttp://34.90.32.22:8501\u001b[0m\n",
            "\u001b[0m\n",
            "'pattern' package not found; tag filters are not available for English\n",
            "\u001b[34m  Stopping...\u001b[0m\n"
          ],
          "name": "stdout"
        }
      ]
    },
    {
      "cell_type": "markdown",
      "metadata": {
        "id": "HLGTeQMRrKRd",
        "colab_type": "text"
      },
      "source": [
        "## The Udacity Self-driving Car Image Browser"
      ]
    },
    {
      "cell_type": "code",
      "metadata": {
        "id": "lsKViyATrWOl",
        "colab_type": "code",
        "colab": {
          "base_uri": "https://localhost:8080/",
          "height": 153
        },
        "outputId": "56b14a12-4a1a-4aa2-d135-cf28c3a1ed79"
      },
      "source": [
        "!streamlit run https://raw.githubusercontent.com/streamlit/demo-self-driving/master/app.py"
      ],
      "execution_count": null,
      "outputs": [
        {
          "output_type": "stream",
          "text": [
            "\u001b[0m\n",
            "\u001b[34m\u001b[1m  You can now view your Streamlit app in your browser.\u001b[0m\n",
            "\u001b[0m\n",
            "\u001b[34m  Network URL: \u001b[0m\u001b[1mhttp://172.28.0.2:8501\u001b[0m\n",
            "\u001b[34m  External URL: \u001b[0m\u001b[1mhttp://35.185.47.239:8501\u001b[0m\n",
            "\u001b[0m\n",
            "\u001b[34m  Stopping...\u001b[0m\n",
            "\u001b[34m  Stopping...\u001b[0m\n"
          ],
          "name": "stdout"
        }
      ]
    },
    {
      "cell_type": "markdown",
      "metadata": {
        "id": "NTHJKeX5ramM",
        "colab_type": "text"
      },
      "source": [
        "## Uber Pickups in New York City"
      ]
    },
    {
      "cell_type": "code",
      "metadata": {
        "id": "irjdWY34rdAs",
        "colab_type": "code",
        "colab": {
          "base_uri": "https://localhost:8080/",
          "height": 153
        },
        "outputId": "209140e9-8f60-4a15-b0af-1d56c8028540"
      },
      "source": [
        "!streamlit run https://raw.githubusercontent.com/streamlit/demo-uber-nyc-pickups/master/app.py"
      ],
      "execution_count": null,
      "outputs": [
        {
          "output_type": "stream",
          "text": [
            "\u001b[0m\n",
            "\u001b[34m\u001b[1m  You can now view your Streamlit app in your browser.\u001b[0m\n",
            "\u001b[0m\n",
            "\u001b[34m  Network URL: \u001b[0m\u001b[1mhttp://172.28.0.2:8501\u001b[0m\n",
            "\u001b[34m  External URL: \u001b[0m\u001b[1mhttp://35.185.47.239:8501\u001b[0m\n",
            "\u001b[0m\n",
            "\u001b[34m  Stopping...\u001b[0m\n",
            "\u001b[34m  Stopping...\u001b[0m\n"
          ],
          "name": "stdout"
        }
      ]
    },
    {
      "cell_type": "markdown",
      "metadata": {
        "id": "K5JVGPGWvKN-",
        "colab_type": "text"
      },
      "source": [
        "## ML-Metrics"
      ]
    },
    {
      "cell_type": "code",
      "metadata": {
        "id": "kCzyHSqjvLhz",
        "colab_type": "code",
        "colab": {
          "base_uri": "https://localhost:8080/",
          "height": 136
        },
        "outputId": "0d09ed97-75ee-44c3-dd6c-1704a013b8bc"
      },
      "source": [
        "!git clone https://github.com/JAVI897/ML-Metrics.git"
      ],
      "execution_count": null,
      "outputs": [
        {
          "output_type": "stream",
          "text": [
            "Cloning into 'ML-Metrics'...\n",
            "remote: Enumerating objects: 268, done.\u001b[K\n",
            "remote: Counting objects:   0% (1/268)\u001b[K\rremote: Counting objects:   1% (3/268)\u001b[K\rremote: Counting objects:   2% (6/268)\u001b[K\rremote: Counting objects:   3% (9/268)\u001b[K\rremote: Counting objects:   4% (11/268)\u001b[K\rremote: Counting objects:   5% (14/268)\u001b[K\rremote: Counting objects:   6% (17/268)\u001b[K\rremote: Counting objects:   7% (19/268)\u001b[K\rremote: Counting objects:   8% (22/268)\u001b[K\rremote: Counting objects:   9% (25/268)\u001b[K\rremote: Counting objects:  10% (27/268)\u001b[K\rremote: Counting objects:  11% (30/268)\u001b[K\rremote: Counting objects:  12% (33/268)\u001b[K\rremote: Counting objects:  13% (35/268)\u001b[K\rremote: Counting objects:  14% (38/268)\u001b[K\rremote: Counting objects:  15% (41/268)\u001b[K\rremote: Counting objects:  16% (43/268)\u001b[K\rremote: Counting objects:  17% (46/268)\u001b[K\rremote: Counting objects:  18% (49/268)\u001b[K\rremote: Counting objects:  19% (51/268)\u001b[K\rremote: Counting objects:  20% (54/268)\u001b[K\rremote: Counting objects:  21% (57/268)\u001b[K\rremote: Counting objects:  22% (59/268)\u001b[K\rremote: Counting objects:  23% (62/268)\u001b[K\rremote: Counting objects:  24% (65/268)\u001b[K\rremote: Counting objects:  25% (67/268)\u001b[K\rremote: Counting objects:  26% (70/268)\u001b[K\rremote: Counting objects:  27% (73/268)\u001b[K\rremote: Counting objects:  28% (76/268)\u001b[K\rremote: Counting objects:  29% (78/268)\u001b[K\rremote: Counting objects:  30% (81/268)\u001b[K\rremote: Counting objects:  31% (84/268)\u001b[K\rremote: Counting objects:  32% (86/268)\u001b[K\rremote: Counting objects:  33% (89/268)\u001b[K\rremote: Counting objects:  34% (92/268)\u001b[K\rremote: Counting objects:  35% (94/268)\u001b[K\rremote: Counting objects:  36% (97/268)\u001b[K\rremote: Counting objects:  37% (100/268)\u001b[K\rremote: Counting objects:  38% (102/268)\u001b[K\rremote: Counting objects:  39% (105/268)\u001b[K\rremote: Counting objects:  40% (108/268)\u001b[K\rremote: Counting objects:  41% (110/268)\u001b[K\rremote: Counting objects:  42% (113/268)\u001b[K\rremote: Counting objects:  43% (116/268)\u001b[K\rremote: Counting objects:  44% (118/268)\u001b[K\rremote: Counting objects:  45% (121/268)\u001b[K\rremote: Counting objects:  46% (124/268)\u001b[K\rremote: Counting objects:  47% (126/268)\u001b[K\rremote: Counting objects:  48% (129/268)\u001b[K\rremote: Counting objects:  49% (132/268)\u001b[K\rremote: Counting objects:  50% (134/268)\u001b[K\rremote: Counting objects:  51% (137/268)\u001b[K\rremote: Counting objects:  52% (140/268)\u001b[K\rremote: Counting objects:  53% (143/268)\u001b[K\rremote: Counting objects:  54% (145/268)\u001b[K\rremote: Counting objects:  55% (148/268)\u001b[K\rremote: Counting objects:  56% (151/268)\u001b[K\rremote: Counting objects:  57% (153/268)\u001b[K\rremote: Counting objects:  58% (156/268)\u001b[K\rremote: Counting objects:  59% (159/268)\u001b[K\rremote: Counting objects:  60% (161/268)\u001b[K\rremote: Counting objects:  61% (164/268)\u001b[K\rremote: Counting objects:  62% (167/268)\u001b[K\rremote: Counting objects:  63% (169/268)\u001b[K\rremote: Counting objects:  64% (172/268)\u001b[K\rremote: Counting objects:  65% (175/268)\u001b[K\rremote: Counting objects:  66% (177/268)\u001b[K\rremote: Counting objects:  67% (180/268)\u001b[K\rremote: Counting objects:  68% (183/268)\u001b[K\rremote: Counting objects:  69% (185/268)\u001b[K\rremote: Counting objects:  70% (188/268)\u001b[K\rremote: Counting objects:  71% (191/268)\u001b[K\rremote: Counting objects:  72% (193/268)\u001b[K\rremote: Counting objects:  73% (196/268)\u001b[K\rremote: Counting objects:  74% (199/268)\u001b[K\rremote: Counting objects:  75% (201/268)\u001b[K\rremote: Counting objects:  76% (204/268)\u001b[K\rremote: Counting objects:  77% (207/268)\u001b[K\rremote: Counting objects:  78% (210/268)\u001b[K\rremote: Counting objects:  79% (212/268)\u001b[K\rremote: Counting objects:  80% (215/268)\u001b[K\rremote: Counting objects:  81% (218/268)\u001b[K\rremote: Counting objects:  82% (220/268)\u001b[K\rremote: Counting objects:  83% (223/268)\u001b[K\rremote: Counting objects:  84% (226/268)\u001b[K\rremote: Counting objects:  85% (228/268)\u001b[K\rremote: Counting objects:  86% (231/268)\u001b[K\rremote: Counting objects:  87% (234/268)\u001b[K\rremote: Counting objects:  88% (236/268)\u001b[K\rremote: Counting objects:  89% (239/268)\u001b[K\rremote: Counting objects:  90% (242/268)\u001b[K\rremote: Counting objects:  91% (244/268)\u001b[K\rremote: Counting objects:  92% (247/268)\u001b[K\rremote: Counting objects:  93% (250/268)\u001b[K\rremote: Counting objects:  94% (252/268)\u001b[K\rremote: Counting objects:  95% (255/268)\u001b[K\rremote: Counting objects:  96% (258/268)\u001b[K\rremote: Counting objects:  97% (260/268)\u001b[K\rremote: Counting objects:  98% (263/268)\u001b[K\rremote: Counting objects:  99% (266/268)\u001b[K\rremote: Counting objects: 100% (268/268)\u001b[K\rremote: Counting objects: 100% (268/268), done.\u001b[K\n",
            "remote: Compressing objects: 100% (208/208), done.\u001b[K\n",
            "remote: Total 268 (delta 158), reused 149 (delta 56), pack-reused 0\u001b[K\n",
            "Receiving objects: 100% (268/268), 1.95 MiB | 11.63 MiB/s, done.\n",
            "Resolving deltas: 100% (158/158), done.\n"
          ],
          "name": "stdout"
        }
      ]
    },
    {
      "cell_type": "code",
      "metadata": {
        "id": "icRAfkZ9waiR",
        "colab_type": "code",
        "colab": {
          "base_uri": "https://localhost:8080/",
          "height": 510
        },
        "outputId": "33b29aa8-5a4e-4f37-904e-1ddee1a60aff"
      },
      "source": [
        "!streamlit run ML-Metrics/app.py"
      ],
      "execution_count": null,
      "outputs": [
        {
          "output_type": "stream",
          "text": [
            "\u001b[0m\n",
            "\u001b[34m\u001b[1m  You can now view your Streamlit app in your browser.\u001b[0m\n",
            "\u001b[0m\n",
            "\u001b[34m  Network URL: \u001b[0m\u001b[1mhttp://172.28.0.2:8501\u001b[0m\n",
            "\u001b[34m  External URL: \u001b[0m\u001b[1mhttp://35.185.47.239:8501\u001b[0m\n",
            "\u001b[0m\n",
            "/usr/local/lib/python3.6/dist-packages/statsmodels/tools/_testing.py:19: FutureWarning:\n",
            "\n",
            "pandas.util.testing is deprecated. Use the functions in the public API at pandas.testing instead.\n",
            "\n",
            "1. Writing: <module 'src.pages.home' from 'ML-Metrics/src/pages/home.py'>\n",
            "2. In sys.modules: False\n",
            "1. Writing: <module 'src.pages.report' from 'ML-Metrics/src/pages/report.py'>\n",
            "2. In sys.modules: False\n",
            "1. Writing: <module 'src.pages.home' from 'ML-Metrics/src/pages/home.py'>\n",
            "2. In sys.modules: False\n",
            "1. Writing: <module 'src.pages.home' from 'ML-Metrics/src/pages/home.py'>\n",
            "2. In sys.modules: False\n",
            "1. Writing: <module 'src.pages.home' from 'ML-Metrics/src/pages/home.py'>\n",
            "2. In sys.modules: False\n",
            "1. Writing: <module 'src.pages.home' from 'ML-Metrics/src/pages/home.py'>\n",
            "2. In sys.modules: False\n",
            "1. Writing: <module 'src.pages.other_graphs' from 'ML-Metrics/src/pages/other_graphs.py'>\n",
            "2. In sys.modules: False\n",
            "1. Writing: <module 'src.pages.curve_type' from 'ML-Metrics/src/pages/curve_type.py'>\n",
            "2. In sys.modules: False\n",
            "1. Writing: <module 'src.pages.report' from 'ML-Metrics/src/pages/report.py'>\n",
            "2. In sys.modules: False\n",
            "\u001b[34m  Stopping...\u001b[0m\n"
          ],
          "name": "stdout"
        }
      ]
    },
    {
      "cell_type": "code",
      "metadata": {
        "id": "gsYaLAj7whKf",
        "colab_type": "code",
        "colab": {}
      },
      "source": [
        ""
      ],
      "execution_count": null,
      "outputs": []
    }
  ]
}